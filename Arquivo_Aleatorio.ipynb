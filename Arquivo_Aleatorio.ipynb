{
 "cells": [
  {
   "cell_type": "markdown",
   "id": "ceffbb08",
   "metadata": {},
   "source": [
    "# Arquivo aleatório\n",
    "\n",
    "Que o Brian pediu para criar."
   ]
  },
  {
   "cell_type": "markdown",
   "id": "1a62b34c",
   "metadata": {},
   "source": [
    "Algo de novo para tentar commitar"
   ]
  },
  {
   "cell_type": "markdown",
   "id": "a667ffa5",
   "metadata": {},
   "source": [
    "teste2"
   ]
  },
  {
   "cell_type": "markdown",
   "id": "3d7a81e4",
   "metadata": {},
   "source": [
    "Outra célula para testar commit"
   ]
  }
 ],
 "metadata": {
  "interpreter": {
   "hash": "d8c2dbe515bb1e132c806da356eed840d95260b43840da4c22c4a5911b708884"
  },
  "kernelspec": {
   "display_name": "Python 3.10.4 64-bit (windows store)",
   "language": "python",
   "name": "python3"
  },
  "language_info": {
   "codemirror_mode": {
    "name": "ipython",
    "version": 3
   },
   "file_extension": ".py",
   "mimetype": "text/x-python",
   "name": "python",
   "nbconvert_exporter": "python",
   "pygments_lexer": "ipython3",
   "version": "3.10.4"
  }
 },
 "nbformat": 4,
 "nbformat_minor": 5
}
