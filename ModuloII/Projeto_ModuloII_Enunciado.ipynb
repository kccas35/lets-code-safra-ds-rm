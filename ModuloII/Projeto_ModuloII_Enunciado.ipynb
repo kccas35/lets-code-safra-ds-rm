{
 "cells": [
  {
   "cell_type": "markdown",
   "metadata": {},
   "source": [
    "## Enunciado\n",
    "Para implementar o programa abaixo, tente empregar técnicas estudadas no módulo atual quando possível: tratamento de strings, manipulação de arquivos utilizando as bibliotecas auxiliares estudadas (`csv` e `json`), tratamento de exceção, diferentes formatos de parâmetro de função, compreensão de listas e/ou geradores, funções de alta ordem e lambda. Apesar de ser possível resolver boa parte dos problemas utilizando loops e técnicas do módulo anterior, você deixará de treinar os novos conceitos e perderá a oportunidade de receber feedback adequado sobre o seu aprendizado deste módulo."
   ]
  },
  {
   "cell_type": "markdown",
   "metadata": {},
   "source": [
    "Uma grande dificuldade de muitos músicos de garagem é encontrar outros músicos que toquem instrumentos diferentes, possuam gostos semelhantes e disponibilidade para formar conjuntos."
   ]
  },
  {
   "cell_type": "code",
   "execution_count": 26,
   "metadata": {},
   "outputs": [
    {
     "name": "stdout",
     "output_type": "stream",
     "text": [
      "Oi\n"
     ]
    }
   ],
   "source": [
    "def imprimealgo():\n",
    "    print(\"Oi\")\n",
    "    \n",
    "def menu(prompt):\n",
    "    menu = {1: imprimealgo}\n",
    "    choice = prompt\n",
    "    \n",
    "    if prompt != 5:\n",
    "        try:\n",
    "            menu[choice]()\n",
    "            \n",
    "        except KeyError:\n",
    "            print(f\" {choice} is not a valid option. Try again.\")\n",
    "            \n",
    "    while prompt != 5:\n",
    "        prompt = int(input(\"Digite um número: \"))\n",
    "\n",
    "prompt = int(input(\"Digite um número: \"))\n",
    "menu(prompt)"
   ]
  },
  {
   "cell_type": "markdown",
   "metadata": {},
   "source": [
    "**No cadastro** devem ser digitadas as seguintes informações:\n",
    "\n",
    "- Nome (string contendo apenas letras e espaço)\n",
    "- E-mail (string contendo apenas letras, underscore (`_`), ponto (`.`), dígitos numéricos e, obrigatoriamente, exatamente 1 arroba (`@`))\n",
    "- Gêneros musicais (mínimo 1, usuário pode digitar quantos forem necessários)\n",
    "- Instrumentos (mínimo 1, usuário pode digitar quantos forem necessários)\n",
    "\n",
    "\n",
    "As entradas devem ser validadas seguindo as regras. O e-mail deve ser único: se ele já existe, o cadastro não deve ser concluído.\n",
    "\n",
    "DICA: padronize suas strings na hora de salvar em sua base para evitar que buscas sejam prejudicadas por divergências de maiúsculas e minúsculas."
   ]
  },
  {
   "cell_type": "code",
   "execution_count": null,
   "metadata": {},
   "outputs": [],
   "source": [
    "nomes = ['Ana', 'Bruno', 'Carla', 'Daniel', 'Emília']\n",
    "sobrenomes = ['Silva', 'Oliveira']\n",
    "\n",
    "combinacoes = [nome + ' ' + sobrenome for nome in nomes for sobrenome in sobrenomes]\n",
    "print(combinacoes)"
   ]
  },
  {
   "cell_type": "code",
   "execution_count": 10,
   "metadata": {},
   "outputs": [
    {
     "name": "stdout",
     "output_type": "stream",
     "text": [
      "{'d': [None, 4], 'b': [2, 2], 'a': [1, 1], 'c': [3, None]}\n",
      "{'d': [4, 5], 'b': [2, 3], 'a': [1, 1]}\n"
     ]
    }
   ],
   "source": [
    "d1 = {'a':1, 'b':2, 'c':3}\n",
    "d2 = {'a':1, 'b':2, 'd':4}\n",
    "d3 = {'a':1, 'b':3, 'd':5}\n",
    "\n",
    "def dictdiff(first, second):\n",
    "    output = {}\n",
    "    all_keys = first.keys() | second.keys()\n",
    "    \n",
    "    for key in all_keys:\n",
    "        output[key] = [first.get(key), second.get(key)]\n",
    "    \n",
    "    return output\n",
    "\n",
    "\n",
    "print(dictdiff(d1, d2))\n",
    "# {'c':[3, None], 'd':[None, 4]}\n",
    "\n",
    "print(dictdiff(d2, d3))\n",
    "# {'b':[2,3], 'd':[4,5]}"
   ]
  },
  {
   "cell_type": "code",
   "execution_count": 8,
   "metadata": {},
   "outputs": [
    {
     "ename": "NameError",
     "evalue": "name 'filename' is not defined",
     "output_type": "error",
     "traceback": [
      "\u001b[0;31m---------------------------------------------------------------------------\u001b[0m",
      "\u001b[0;31mNameError\u001b[0m                                 Traceback (most recent call last)",
      "\u001b[1;32m/Users/karime/Documents/GitHub/lets-code-safra-ds-rm/ModuloII/Projeto_ModuloII_Enunciado.ipynb Cell 6'\u001b[0m in \u001b[0;36m<module>\u001b[0;34m\u001b[0m\n\u001b[1;32m     <a href='vscode-notebook-cell:/Users/karime/Documents/GitHub/lets-code-safra-ds-rm/ModuloII/Projeto_ModuloII_Enunciado.ipynb#ch0000017?line=18'>19</a>\u001b[0m     \u001b[39mfor\u001b[39;00m key, value \u001b[39min\u001b[39;00m counts\u001b[39m.\u001b[39mitems():\n\u001b[1;32m     <a href='vscode-notebook-cell:/Users/karime/Documents/GitHub/lets-code-safra-ds-rm/ModuloII/Projeto_ModuloII_Enunciado.ipynb#ch0000017?line=19'>20</a>\u001b[0m         \u001b[39mprint\u001b[39m(\u001b[39mf\u001b[39m\u001b[39m'\u001b[39m\u001b[39m{\u001b[39;00mkey\u001b[39m}\u001b[39;00m\u001b[39m: \u001b[39m\u001b[39m{\u001b[39;00mvalue\u001b[39m}\u001b[39;00m\u001b[39m'\u001b[39m)\n\u001b[0;32m---> <a href='vscode-notebook-cell:/Users/karime/Documents/GitHub/lets-code-safra-ds-rm/ModuloII/Projeto_ModuloII_Enunciado.ipynb#ch0000017?line=21'>22</a>\u001b[0m wordcount(filename\u001b[39m.\u001b[39mcsv)\n",
      "\u001b[0;31mNameError\u001b[0m: name 'filename' is not defined"
     ]
    }
   ],
   "source": []
  },
  {
   "cell_type": "code",
   "execution_count": 6,
   "metadata": {},
   "outputs": [
    {
     "ename": "NameError",
     "evalue": "name 'i' is not defined",
     "output_type": "error",
     "traceback": [
      "\u001b[0;31m---------------------------------------------------------------------------\u001b[0m",
      "\u001b[0;31mNameError\u001b[0m                                 Traceback (most recent call last)",
      "\u001b[1;32m/Users/karime/Documents/GitHub/lets-code-safra-ds-rm/ModuloII/Projeto_ModuloII_Enunciado.ipynb Cell 6'\u001b[0m in \u001b[0;36m<module>\u001b[0;34m\u001b[0m\n\u001b[1;32m      <a href='vscode-notebook-cell:/Users/karime/Documents/GitHub/lets-code-safra-ds-rm/ModuloII/Projeto_ModuloII_Enunciado.ipynb#ch0000004?line=3'>4</a>\u001b[0m     lista \u001b[39m=\u001b[39m [i \u001b[39mfor\u001b[39;00m musicos_inp \u001b[39min\u001b[39;00m \u001b[39mrange\u001b[39m(qtde_musicos)]\n\u001b[1;32m      <a href='vscode-notebook-cell:/Users/karime/Documents/GitHub/lets-code-safra-ds-rm/ModuloII/Projeto_ModuloII_Enunciado.ipynb#ch0000004?line=4'>5</a>\u001b[0m     \u001b[39mreturn\u001b[39;00m lista\n\u001b[0;32m----> <a href='vscode-notebook-cell:/Users/karime/Documents/GitHub/lets-code-safra-ds-rm/ModuloII/Projeto_ModuloII_Enunciado.ipynb#ch0000004?line=6'>7</a>\u001b[0m \u001b[39mprint\u001b[39m(cadastrar_musicos())\n",
      "\u001b[1;32m/Users/karime/Documents/GitHub/lets-code-safra-ds-rm/ModuloII/Projeto_ModuloII_Enunciado.ipynb Cell 6'\u001b[0m in \u001b[0;36mcadastrar_musicos\u001b[0;34m()\u001b[0m\n\u001b[1;32m      <a href='vscode-notebook-cell:/Users/karime/Documents/GitHub/lets-code-safra-ds-rm/ModuloII/Projeto_ModuloII_Enunciado.ipynb#ch0000004?line=1'>2</a>\u001b[0m qtde_musicos \u001b[39m=\u001b[39m \u001b[39mint\u001b[39m(\u001b[39minput\u001b[39m(\u001b[39m\"\u001b[39m\u001b[39mDigite o número de músicos desejados para o cadastro: \u001b[39m\u001b[39m\"\u001b[39m))\n\u001b[1;32m      <a href='vscode-notebook-cell:/Users/karime/Documents/GitHub/lets-code-safra-ds-rm/ModuloII/Projeto_ModuloII_Enunciado.ipynb#ch0000004?line=2'>3</a>\u001b[0m musicos_inp \u001b[39m=\u001b[39m \u001b[39minput\u001b[39m(\u001b[39m\"\u001b[39m\u001b[39mDigite nome: \u001b[39m\u001b[39m\"\u001b[39m)\n\u001b[0;32m----> <a href='vscode-notebook-cell:/Users/karime/Documents/GitHub/lets-code-safra-ds-rm/ModuloII/Projeto_ModuloII_Enunciado.ipynb#ch0000004?line=3'>4</a>\u001b[0m lista \u001b[39m=\u001b[39m [i \u001b[39mfor\u001b[39;00m musicos_inp \u001b[39min\u001b[39;00m \u001b[39mrange\u001b[39m(qtde_musicos)]\n\u001b[1;32m      <a href='vscode-notebook-cell:/Users/karime/Documents/GitHub/lets-code-safra-ds-rm/ModuloII/Projeto_ModuloII_Enunciado.ipynb#ch0000004?line=4'>5</a>\u001b[0m \u001b[39mreturn\u001b[39;00m lista\n",
      "\u001b[1;32m/Users/karime/Documents/GitHub/lets-code-safra-ds-rm/ModuloII/Projeto_ModuloII_Enunciado.ipynb Cell 6'\u001b[0m in \u001b[0;36m<listcomp>\u001b[0;34m(.0)\u001b[0m\n\u001b[1;32m      <a href='vscode-notebook-cell:/Users/karime/Documents/GitHub/lets-code-safra-ds-rm/ModuloII/Projeto_ModuloII_Enunciado.ipynb#ch0000004?line=1'>2</a>\u001b[0m qtde_musicos \u001b[39m=\u001b[39m \u001b[39mint\u001b[39m(\u001b[39minput\u001b[39m(\u001b[39m\"\u001b[39m\u001b[39mDigite o número de músicos desejados para o cadastro: \u001b[39m\u001b[39m\"\u001b[39m))\n\u001b[1;32m      <a href='vscode-notebook-cell:/Users/karime/Documents/GitHub/lets-code-safra-ds-rm/ModuloII/Projeto_ModuloII_Enunciado.ipynb#ch0000004?line=2'>3</a>\u001b[0m musicos_inp \u001b[39m=\u001b[39m \u001b[39minput\u001b[39m(\u001b[39m\"\u001b[39m\u001b[39mDigite nome: \u001b[39m\u001b[39m\"\u001b[39m)\n\u001b[0;32m----> <a href='vscode-notebook-cell:/Users/karime/Documents/GitHub/lets-code-safra-ds-rm/ModuloII/Projeto_ModuloII_Enunciado.ipynb#ch0000004?line=3'>4</a>\u001b[0m lista \u001b[39m=\u001b[39m [i \u001b[39mfor\u001b[39;00m musicos_inp \u001b[39min\u001b[39;00m \u001b[39mrange\u001b[39m(qtde_musicos)]\n\u001b[1;32m      <a href='vscode-notebook-cell:/Users/karime/Documents/GitHub/lets-code-safra-ds-rm/ModuloII/Projeto_ModuloII_Enunciado.ipynb#ch0000004?line=4'>5</a>\u001b[0m \u001b[39mreturn\u001b[39;00m lista\n",
      "\u001b[0;31mNameError\u001b[0m: name 'i' is not defined"
     ]
    }
   ],
   "source": [
    "'''def cadastrar_musicos():\n",
    "    qtde_musicos = int(input(\"Digite o número de músicos desejados para o cadastro: \"))\n",
    "    musicos_inp = input(\"Digite nome: \")\n",
    "    lista = [i for musicos_inp in range(qtde_musicos)]\n",
    "    return lista\n",
    "\n",
    "print(cadastrar_musicos())'''\n"
   ]
  },
  {
   "cell_type": "markdown",
   "metadata": {},
   "source": [
    "**Na busca** o usuário deve passar pelo menos 1 das opções: nome, e-mail, gênero (digitar apenas 1) ou instrumento (digitar apenas 1). O usuário deve selecionar se os resultados devem bater com todas as informações digitadas ou pelo menos uma (ex: se o usuário digitar nome e instrumento, a busca pode ser por resultados contendo o nome E o instrumento vs o nome OU o instrumento)."
   ]
  },
  {
   "cell_type": "code",
   "execution_count": null,
   "metadata": {},
   "outputs": [],
   "source": []
  },
  {
   "cell_type": "markdown",
   "metadata": {},
   "source": [
    "**Na modificação de um usuário**, será feita uma busca especificamente por e-mail. É permitido adicionar ou remover gêneros e instrumentos. Não é permitido mudar nome ou e-mail."
   ]
  },
  {
   "cell_type": "code",
   "execution_count": null,
   "metadata": {},
   "outputs": [],
   "source": []
  },
  {
   "cell_type": "markdown",
   "metadata": {},
   "source": [
    "**Na opção de montar bandas**, o usuário deverá informar o número desejado de músicos, o instrumento de cada um dos músicos (1 por músico) e 1 gênero. O programa deverá exibir na tela todas as combinações possíveis de músicos (e-mail + instrumento)."
   ]
  },
  {
   "cell_type": "markdown",
   "metadata": {},
   "source": [
    "Ex: suponha que para o gênero 'heavy metal' a gente tenha os músicos ana@letscode.com.br (bateria), bruno@letscode.com.br (guitarra), carol@letscode.com.br (guitarra), danilo@letscode.com.br (baixo) e erasmo@letscode.com.br (baixo) e a busca seja:\n",
    "- Gênero: heavy metal\n",
    "- Quantidade: 3\n",
    "- Instrumento 1: guitarra\n",
    "- Instrumento 2: bateria\n",
    "- Instrumento 3: baixo\n",
    "\n",
    "A saída mostraria as seguintes combinações:\n",
    "```\n",
    "(bruno@letscode.com.br, guitarra) + (ana@letscode.com.br, bateria) + (danilo@letscode.com.br, baixo)\n",
    "(bruno@letscode.com.br, guitarra) + (ana@letscode.com.br, bateria) + (erasmo@letscode.com.br, baixo)\n",
    "(carol@letscode.com.br, guitarra) + (ana@letscode.com.br, bateria) + (danilo@letscode.com.br, baixo)\n",
    "(carol@letscode.com.br, guitarra) + (ana@letscode.com.br, bateria) + (erasmo@letscode.com.br, baixo)\n",
    "```"
   ]
  },
  {
   "cell_type": "code",
   "execution_count": null,
   "metadata": {},
   "outputs": [],
   "source": []
  },
  {
   "cell_type": "markdown",
   "metadata": {},
   "source": [
    "A formatação para exibir esse resultado fica a seu critério.\n",
    "\n",
    "O seu programa deverá salvar todos os dados em formato de sua preferência para consulta posterior: JSON ou CSV.\n",
    "\n",
    "Caso opte por CSV, ele terá as colunas nome, e-mail, instrumentos (escreva os dados em formato de lista) e gêneros (escreva os dados em formato de lista). Ex:\n",
    "```\n",
    "ana;ana@letscode.com.br;['bateria', 'voz'];['hard rock', 'heavy metal']\n",
    "bruno;bruno@letscode.com.br;['guitarra'];['heavy metal', 'jazz']\n",
    "```\n",
    "Para o JSON, teremos uma lista de dicionários. As chaves dos dicionários correspondem às colunas do CSV. Alternativamente, você pode fazer um dicionário de dicionários, adotando o e-mail como chave, e o valor seria um dicionário contendo as outras 3 chaves.\n",
    "\n",
    "Lembre-se de garantir que seu programa sempre salva o arquivo quando for encerrado."
   ]
  },
  {
   "cell_type": "code",
   "execution_count": null,
   "metadata": {},
   "outputs": [],
   "source": []
  },
  {
   "cell_type": "markdown",
   "metadata": {},
   "source": [
    "**Procedimento de entrega do projeto**: subir o arquivo .py (programa Python puro) ou .ipynb (Jupyter Notebook). Caso haja necessidade de subir múltiplos arquivos, salve-os em um .zip."
   ]
  }
 ],
 "metadata": {
  "kernelspec": {
   "display_name": "Python 3.10.1 64-bit",
   "language": "python",
   "name": "python3"
  },
  "language_info": {
   "codemirror_mode": {
    "name": "ipython",
    "version": 3
   },
   "file_extension": ".py",
   "mimetype": "text/x-python",
   "name": "python",
   "nbconvert_exporter": "python",
   "pygments_lexer": "ipython3",
   "version": "3.10.1"
  },
  "orig_nbformat": 4,
  "vscode": {
   "interpreter": {
    "hash": "aee8b7b246df8f9039afb4144a1f6fd8d2ca17a180786b69acc140d282b71a49"
   }
  }
 },
 "nbformat": 4,
 "nbformat_minor": 2
}
