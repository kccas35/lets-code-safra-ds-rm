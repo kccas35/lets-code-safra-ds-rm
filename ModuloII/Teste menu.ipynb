{
 "cells": [
  {
   "cell_type": "code",
   "execution_count": 91,
   "metadata": {},
   "outputs": [
    {
     "name": "stdout",
     "output_type": "stream",
     "text": [
      "['karime@gmail.com']\n"
     ]
    }
   ],
   "source": [
    "def tetse1():\n",
    "    symbols = \"!#$',%&*-=}{~[]+`<>:;\" + '\"'\n",
    "    lista = []\n",
    "    email = str(input(\"Digite o email: \"))\n",
    "    if email.count('@') != 1:\n",
    "        email = str(input(\"Digite o email, com um @\"))\n",
    "        filteredChars = ''.join(filter(lambda x: x not in symbols, email))\n",
    "    else:\n",
    "        filteredChars = ''.join(filter(lambda x: x not in symbols, email))\n",
    "    lista.append(filteredChars)\n",
    "    print(lista)\n",
    "\n",
    "tetse1()"
   ]
  },
  {
   "cell_type": "code",
   "execution_count": 88,
   "metadata": {},
   "outputs": [
    {
     "name": "stdout",
     "output_type": "stream",
     "text": [
      "k_a_r_i_m_e\n"
     ]
    }
   ],
   "source": [
    "def cadastroMusicos():\n",
    "    lista = []\n",
    "    nome = input(\"Digite o nome: \")\n",
    "    nome_filtro = ''.join(filter(lambda x: x.isdigit() == False, nome))\n",
    "    lista.append(nome_filtro)\n",
    "    print(nome_filtro)\n",
    "cadastroMusicos()"
   ]
  },
  {
   "cell_type": "markdown",
   "metadata": {},
   "source": []
  },
  {
   "cell_type": "code",
   "execution_count": 82,
   "metadata": {},
   "outputs": [
    {
     "name": "stdout",
     "output_type": "stream",
     "text": [
      "5\n",
      "i\"oiuioeee"
     ]
    }
   ],
   "source": [
    "ch = 'antic\"onstitutionnellement'\n",
    "var = ch.count('n')\n",
    "print(var)\n",
    "a = [print(i, end = '') for i in ch if (i in ['a','e','i','o','u'])]\n"
   ]
  },
  {
   "cell_type": "code",
   "execution_count": 80,
   "metadata": {},
   "outputs": [
    {
     "ename": "SyntaxError",
     "evalue": "invalid syntax (1636379618.py, line 2)",
     "output_type": "error",
     "traceback": [
      "\u001b[0;36m  Input \u001b[0;32mIn [80]\u001b[0;36m\u001b[0m\n\u001b[0;31m    return False for x in string if x.isdigit()\u001b[0m\n\u001b[0m                 ^\u001b[0m\n\u001b[0;31mSyntaxError\u001b[0m\u001b[0;31m:\u001b[0m invalid syntax\n"
     ]
    }
   ],
   "source": []
  }
 ],
 "metadata": {
  "kernelspec": {
   "display_name": "Python 3.10.1 64-bit",
   "language": "python",
   "name": "python3"
  },
  "language_info": {
   "codemirror_mode": {
    "name": "ipython",
    "version": 3
   },
   "file_extension": ".py",
   "mimetype": "text/x-python",
   "name": "python",
   "nbconvert_exporter": "python",
   "pygments_lexer": "ipython3",
   "version": "3.10.1"
  },
  "orig_nbformat": 4,
  "vscode": {
   "interpreter": {
    "hash": "aee8b7b246df8f9039afb4144a1f6fd8d2ca17a180786b69acc140d282b71a49"
   }
  }
 },
 "nbformat": 4,
 "nbformat_minor": 2
}
